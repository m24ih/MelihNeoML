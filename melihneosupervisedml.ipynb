{
 "cells": [
  {
   "cell_type": "code",
   "execution_count": 1,
   "id": "89a8a801",
   "metadata": {
    "_cell_guid": "b1076dfc-b9ad-4769-8c92-a6c4dae69d19",
    "_uuid": "8f2839f25d086af736a60e9eeb907d3b93b6e0e5",
    "execution": {
     "iopub.execute_input": "2024-09-16T11:07:44.330063Z",
     "iopub.status.busy": "2024-09-16T11:07:44.329435Z",
     "iopub.status.idle": "2024-09-16T11:07:47.421165Z",
     "shell.execute_reply": "2024-09-16T11:07:47.419806Z"
    },
    "papermill": {
     "duration": 3.110083,
     "end_time": "2024-09-16T11:07:47.424416",
     "exception": false,
     "start_time": "2024-09-16T11:07:44.314333",
     "status": "completed"
    },
    "tags": []
   },
   "outputs": [
    {
     "name": "stdout",
     "output_type": "stream",
     "text": [
      "/kaggle/input/nasa-nearest-earth-objects-1910-2024/nearest-earth-objects(1910-2024).csv\n"
     ]
    }
   ],
   "source": [
    "# This Python 3 environment comes with many helpful analytics libraries installed\n",
    "# It is defined by the kaggle/python Docker image: https://github.com/kaggle/docker-python\n",
    "# For example, here's several helpful packages to load\n",
    "\n",
    "import numpy as np # linear algebra\n",
    "import pandas as pd # data processing, CSV file I/O (e.g. pd.read_csv)\n",
    "\n",
    "import matplotlib.pyplot as plt\n",
    "import seaborn as sns\n",
    "from sklearn.model_selection import train_test_split\n",
    "from sklearn.linear_model import LogisticRegression\n",
    "from sklearn.metrics import (\n",
    "    accuracy_score,\n",
    "    recall_score,\n",
    "    RocCurveDisplay,\n",
    ")\n",
    "from sklearn.impute import SimpleImputer\n",
    "\n",
    "import warnings\n",
    "warnings.filterwarnings('ignore')\n",
    "\n",
    "from sklearn.svm import SVC\n",
    "from sklearn import svm, datasets\n",
    "# Input data files are available in the read-only \"../input/\" directory\n",
    "# For example, running this (by clicking run or pressing Shift+Enter) will list all files under the input directory\n",
    "\n",
    "import os\n",
    "for dirname, _, filenames in os.walk('/kaggle/input'):\n",
    "    for filename in filenames:\n",
    "        print(os.path.join(dirname, filename))\n",
    "\n",
    "# You can write up to 20GB to the current directory (/kaggle/working/) that gets preserved as output when you create a version using \"Save & Run All\" \n",
    "# You can also write temporary files to /kaggle/temp/, but they won't be saved outside of the current session"
   ]
  },
  {
   "cell_type": "markdown",
   "id": "7dd5fb6d",
   "metadata": {
    "papermill": {
     "duration": 0.012557,
     "end_time": "2024-09-16T11:07:47.450137",
     "exception": false,
     "start_time": "2024-09-16T11:07:47.437580",
     "status": "completed"
    },
    "tags": []
   },
   "source": [
    "Gerekli kütüphaneleri import ettim"
   ]
  },
  {
   "cell_type": "code",
   "execution_count": 2,
   "id": "82ff71fc",
   "metadata": {
    "execution": {
     "iopub.execute_input": "2024-09-16T11:07:47.476587Z",
     "iopub.status.busy": "2024-09-16T11:07:47.475928Z",
     "iopub.status.idle": "2024-09-16T11:07:48.599263Z",
     "shell.execute_reply": "2024-09-16T11:07:48.598234Z"
    },
    "papermill": {
     "duration": 1.139558,
     "end_time": "2024-09-16T11:07:48.602106",
     "exception": false,
     "start_time": "2024-09-16T11:07:47.462548",
     "status": "completed"
    },
    "tags": []
   },
   "outputs": [],
   "source": [
    "df = pd.read_csv('/kaggle/input/nasa-nearest-earth-objects-1910-2024/nearest-earth-objects(1910-2024).csv')"
   ]
  },
  {
   "cell_type": "markdown",
   "id": "e10cff7d",
   "metadata": {
    "papermill": {
     "duration": 0.011479,
     "end_time": "2024-09-16T11:07:48.625680",
     "exception": false,
     "start_time": "2024-09-16T11:07:48.614201",
     "status": "completed"
    },
    "tags": []
   },
   "source": [
    "Pandas ile csv verisini okudum"
   ]
  },
  {
   "cell_type": "code",
   "execution_count": 3,
   "id": "2fac586a",
   "metadata": {
    "execution": {
     "iopub.execute_input": "2024-09-16T11:07:48.651719Z",
     "iopub.status.busy": "2024-09-16T11:07:48.651260Z",
     "iopub.status.idle": "2024-09-16T11:07:48.769206Z",
     "shell.execute_reply": "2024-09-16T11:07:48.767689Z"
    },
    "papermill": {
     "duration": 0.13474,
     "end_time": "2024-09-16T11:07:48.772326",
     "exception": false,
     "start_time": "2024-09-16T11:07:48.637586",
     "status": "completed"
    },
    "tags": []
   },
   "outputs": [
    {
     "name": "stdout",
     "output_type": "stream",
     "text": [
      "<class 'pandas.core.frame.DataFrame'>\n",
      "RangeIndex: 338199 entries, 0 to 338198\n",
      "Data columns (total 9 columns):\n",
      " #   Column                  Non-Null Count   Dtype  \n",
      "---  ------                  --------------   -----  \n",
      " 0   neo_id                  338199 non-null  int64  \n",
      " 1   name                    338199 non-null  object \n",
      " 2   absolute_magnitude      338171 non-null  float64\n",
      " 3   estimated_diameter_min  338171 non-null  float64\n",
      " 4   estimated_diameter_max  338171 non-null  float64\n",
      " 5   orbiting_body           338199 non-null  object \n",
      " 6   relative_velocity       338199 non-null  float64\n",
      " 7   miss_distance           338199 non-null  float64\n",
      " 8   is_hazardous            338199 non-null  bool   \n",
      "dtypes: bool(1), float64(5), int64(1), object(2)\n",
      "memory usage: 21.0+ MB\n"
     ]
    }
   ],
   "source": [
    "df.info()"
   ]
  },
  {
   "cell_type": "code",
   "execution_count": 4,
   "id": "46a149da",
   "metadata": {
    "execution": {
     "iopub.execute_input": "2024-09-16T11:07:48.800368Z",
     "iopub.status.busy": "2024-09-16T11:07:48.799036Z",
     "iopub.status.idle": "2024-09-16T11:07:48.943223Z",
     "shell.execute_reply": "2024-09-16T11:07:48.941925Z"
    },
    "papermill": {
     "duration": 0.16064,
     "end_time": "2024-09-16T11:07:48.945853",
     "exception": false,
     "start_time": "2024-09-16T11:07:48.785213",
     "status": "completed"
    },
    "tags": []
   },
   "outputs": [
    {
     "data": {
      "text/html": [
       "<div>\n",
       "<style scoped>\n",
       "    .dataframe tbody tr th:only-of-type {\n",
       "        vertical-align: middle;\n",
       "    }\n",
       "\n",
       "    .dataframe tbody tr th {\n",
       "        vertical-align: top;\n",
       "    }\n",
       "\n",
       "    .dataframe thead th {\n",
       "        text-align: right;\n",
       "    }\n",
       "</style>\n",
       "<table border=\"1\" class=\"dataframe\">\n",
       "  <thead>\n",
       "    <tr style=\"text-align: right;\">\n",
       "      <th></th>\n",
       "      <th>neo_id</th>\n",
       "      <th>absolute_magnitude</th>\n",
       "      <th>estimated_diameter_min</th>\n",
       "      <th>estimated_diameter_max</th>\n",
       "      <th>relative_velocity</th>\n",
       "      <th>miss_distance</th>\n",
       "    </tr>\n",
       "  </thead>\n",
       "  <tbody>\n",
       "    <tr>\n",
       "      <th>count</th>\n",
       "      <td>3.381990e+05</td>\n",
       "      <td>338171.000000</td>\n",
       "      <td>338171.000000</td>\n",
       "      <td>338171.000000</td>\n",
       "      <td>338199.000000</td>\n",
       "      <td>3.381990e+05</td>\n",
       "    </tr>\n",
       "    <tr>\n",
       "      <th>mean</th>\n",
       "      <td>1.759939e+07</td>\n",
       "      <td>22.932525</td>\n",
       "      <td>0.157812</td>\n",
       "      <td>0.352878</td>\n",
       "      <td>51060.662908</td>\n",
       "      <td>4.153535e+07</td>\n",
       "    </tr>\n",
       "    <tr>\n",
       "      <th>std</th>\n",
       "      <td>2.287225e+07</td>\n",
       "      <td>2.911216</td>\n",
       "      <td>0.313885</td>\n",
       "      <td>0.701869</td>\n",
       "      <td>26399.238435</td>\n",
       "      <td>2.077399e+07</td>\n",
       "    </tr>\n",
       "    <tr>\n",
       "      <th>min</th>\n",
       "      <td>2.000433e+06</td>\n",
       "      <td>9.250000</td>\n",
       "      <td>0.000511</td>\n",
       "      <td>0.001143</td>\n",
       "      <td>203.346433</td>\n",
       "      <td>6.745533e+03</td>\n",
       "    </tr>\n",
       "    <tr>\n",
       "      <th>25%</th>\n",
       "      <td>3.373980e+06</td>\n",
       "      <td>20.740000</td>\n",
       "      <td>0.025384</td>\n",
       "      <td>0.056760</td>\n",
       "      <td>30712.031471</td>\n",
       "      <td>2.494540e+07</td>\n",
       "    </tr>\n",
       "    <tr>\n",
       "      <th>50%</th>\n",
       "      <td>3.742127e+06</td>\n",
       "      <td>22.800000</td>\n",
       "      <td>0.073207</td>\n",
       "      <td>0.163697</td>\n",
       "      <td>47560.465474</td>\n",
       "      <td>4.332674e+07</td>\n",
       "    </tr>\n",
       "    <tr>\n",
       "      <th>75%</th>\n",
       "      <td>5.405374e+07</td>\n",
       "      <td>25.100000</td>\n",
       "      <td>0.189041</td>\n",
       "      <td>0.422708</td>\n",
       "      <td>66673.820614</td>\n",
       "      <td>5.933961e+07</td>\n",
       "    </tr>\n",
       "    <tr>\n",
       "      <th>max</th>\n",
       "      <td>5.446281e+07</td>\n",
       "      <td>33.580000</td>\n",
       "      <td>37.545248</td>\n",
       "      <td>83.953727</td>\n",
       "      <td>291781.106613</td>\n",
       "      <td>7.479865e+07</td>\n",
       "    </tr>\n",
       "  </tbody>\n",
       "</table>\n",
       "</div>"
      ],
      "text/plain": [
       "             neo_id  absolute_magnitude  estimated_diameter_min  \\\n",
       "count  3.381990e+05       338171.000000           338171.000000   \n",
       "mean   1.759939e+07           22.932525                0.157812   \n",
       "std    2.287225e+07            2.911216                0.313885   \n",
       "min    2.000433e+06            9.250000                0.000511   \n",
       "25%    3.373980e+06           20.740000                0.025384   \n",
       "50%    3.742127e+06           22.800000                0.073207   \n",
       "75%    5.405374e+07           25.100000                0.189041   \n",
       "max    5.446281e+07           33.580000               37.545248   \n",
       "\n",
       "       estimated_diameter_max  relative_velocity  miss_distance  \n",
       "count           338171.000000      338199.000000   3.381990e+05  \n",
       "mean                 0.352878       51060.662908   4.153535e+07  \n",
       "std                  0.701869       26399.238435   2.077399e+07  \n",
       "min                  0.001143         203.346433   6.745533e+03  \n",
       "25%                  0.056760       30712.031471   2.494540e+07  \n",
       "50%                  0.163697       47560.465474   4.332674e+07  \n",
       "75%                  0.422708       66673.820614   5.933961e+07  \n",
       "max                 83.953727      291781.106613   7.479865e+07  "
      ]
     },
     "execution_count": 4,
     "metadata": {},
     "output_type": "execute_result"
    }
   ],
   "source": [
    "df.describe()"
   ]
  },
  {
   "cell_type": "code",
   "execution_count": 5,
   "id": "35cd8178",
   "metadata": {
    "execution": {
     "iopub.execute_input": "2024-09-16T11:07:48.973933Z",
     "iopub.status.busy": "2024-09-16T11:07:48.973127Z",
     "iopub.status.idle": "2024-09-16T11:07:48.990826Z",
     "shell.execute_reply": "2024-09-16T11:07:48.989609Z"
    },
    "papermill": {
     "duration": 0.034979,
     "end_time": "2024-09-16T11:07:48.993630",
     "exception": false,
     "start_time": "2024-09-16T11:07:48.958651",
     "status": "completed"
    },
    "tags": []
   },
   "outputs": [
    {
     "data": {
      "text/html": [
       "<div>\n",
       "<style scoped>\n",
       "    .dataframe tbody tr th:only-of-type {\n",
       "        vertical-align: middle;\n",
       "    }\n",
       "\n",
       "    .dataframe tbody tr th {\n",
       "        vertical-align: top;\n",
       "    }\n",
       "\n",
       "    .dataframe thead th {\n",
       "        text-align: right;\n",
       "    }\n",
       "</style>\n",
       "<table border=\"1\" class=\"dataframe\">\n",
       "  <thead>\n",
       "    <tr style=\"text-align: right;\">\n",
       "      <th></th>\n",
       "      <th>neo_id</th>\n",
       "      <th>name</th>\n",
       "      <th>absolute_magnitude</th>\n",
       "      <th>estimated_diameter_min</th>\n",
       "      <th>estimated_diameter_max</th>\n",
       "      <th>orbiting_body</th>\n",
       "      <th>relative_velocity</th>\n",
       "      <th>miss_distance</th>\n",
       "      <th>is_hazardous</th>\n",
       "    </tr>\n",
       "  </thead>\n",
       "  <tbody>\n",
       "    <tr>\n",
       "      <th>0</th>\n",
       "      <td>2162117</td>\n",
       "      <td>162117 (1998 SD15)</td>\n",
       "      <td>19.14</td>\n",
       "      <td>0.394962</td>\n",
       "      <td>0.883161</td>\n",
       "      <td>Earth</td>\n",
       "      <td>71745.401048</td>\n",
       "      <td>5.814362e+07</td>\n",
       "      <td>False</td>\n",
       "    </tr>\n",
       "    <tr>\n",
       "      <th>1</th>\n",
       "      <td>2349507</td>\n",
       "      <td>349507 (2008 QY)</td>\n",
       "      <td>18.50</td>\n",
       "      <td>0.530341</td>\n",
       "      <td>1.185878</td>\n",
       "      <td>Earth</td>\n",
       "      <td>109949.757148</td>\n",
       "      <td>5.580105e+07</td>\n",
       "      <td>True</td>\n",
       "    </tr>\n",
       "    <tr>\n",
       "      <th>2</th>\n",
       "      <td>2455415</td>\n",
       "      <td>455415 (2003 GA)</td>\n",
       "      <td>21.45</td>\n",
       "      <td>0.136319</td>\n",
       "      <td>0.304818</td>\n",
       "      <td>Earth</td>\n",
       "      <td>24865.506798</td>\n",
       "      <td>6.720689e+07</td>\n",
       "      <td>False</td>\n",
       "    </tr>\n",
       "    <tr>\n",
       "      <th>3</th>\n",
       "      <td>3132126</td>\n",
       "      <td>(2002 PB)</td>\n",
       "      <td>20.63</td>\n",
       "      <td>0.198863</td>\n",
       "      <td>0.444672</td>\n",
       "      <td>Earth</td>\n",
       "      <td>78890.076805</td>\n",
       "      <td>3.039644e+07</td>\n",
       "      <td>False</td>\n",
       "    </tr>\n",
       "    <tr>\n",
       "      <th>4</th>\n",
       "      <td>3557844</td>\n",
       "      <td>(2011 DW)</td>\n",
       "      <td>22.70</td>\n",
       "      <td>0.076658</td>\n",
       "      <td>0.171412</td>\n",
       "      <td>Earth</td>\n",
       "      <td>56036.519484</td>\n",
       "      <td>6.311863e+07</td>\n",
       "      <td>False</td>\n",
       "    </tr>\n",
       "  </tbody>\n",
       "</table>\n",
       "</div>"
      ],
      "text/plain": [
       "    neo_id                name  absolute_magnitude  estimated_diameter_min  \\\n",
       "0  2162117  162117 (1998 SD15)               19.14                0.394962   \n",
       "1  2349507    349507 (2008 QY)               18.50                0.530341   \n",
       "2  2455415    455415 (2003 GA)               21.45                0.136319   \n",
       "3  3132126           (2002 PB)               20.63                0.198863   \n",
       "4  3557844           (2011 DW)               22.70                0.076658   \n",
       "\n",
       "   estimated_diameter_max orbiting_body  relative_velocity  miss_distance  \\\n",
       "0                0.883161         Earth       71745.401048   5.814362e+07   \n",
       "1                1.185878         Earth      109949.757148   5.580105e+07   \n",
       "2                0.304818         Earth       24865.506798   6.720689e+07   \n",
       "3                0.444672         Earth       78890.076805   3.039644e+07   \n",
       "4                0.171412         Earth       56036.519484   6.311863e+07   \n",
       "\n",
       "   is_hazardous  \n",
       "0         False  \n",
       "1          True  \n",
       "2         False  \n",
       "3         False  \n",
       "4         False  "
      ]
     },
     "execution_count": 5,
     "metadata": {},
     "output_type": "execute_result"
    }
   ],
   "source": [
    "df.head()"
   ]
  },
  {
   "cell_type": "markdown",
   "id": "4cc68075",
   "metadata": {
    "papermill": {
     "duration": 0.012744,
     "end_time": "2024-09-16T11:07:49.019241",
     "exception": false,
     "start_time": "2024-09-16T11:07:49.006497",
     "status": "completed"
    },
    "tags": []
   },
   "source": [
    "Dataseti hakkında genel bilgiye sahip olmak için üstteki kod satırlarını kullandım"
   ]
  },
  {
   "cell_type": "code",
   "execution_count": 6,
   "id": "e6a049a7",
   "metadata": {
    "execution": {
     "iopub.execute_input": "2024-09-16T11:07:49.047934Z",
     "iopub.status.busy": "2024-09-16T11:07:49.047447Z",
     "iopub.status.idle": "2024-09-16T11:07:49.069036Z",
     "shell.execute_reply": "2024-09-16T11:07:49.067854Z"
    },
    "papermill": {
     "duration": 0.038918,
     "end_time": "2024-09-16T11:07:49.071620",
     "exception": false,
     "start_time": "2024-09-16T11:07:49.032702",
     "status": "completed"
    },
    "tags": []
   },
   "outputs": [
    {
     "data": {
      "text/html": [
       "<div>\n",
       "<style scoped>\n",
       "    .dataframe tbody tr th:only-of-type {\n",
       "        vertical-align: middle;\n",
       "    }\n",
       "\n",
       "    .dataframe tbody tr th {\n",
       "        vertical-align: top;\n",
       "    }\n",
       "\n",
       "    .dataframe thead th {\n",
       "        text-align: right;\n",
       "    }\n",
       "</style>\n",
       "<table border=\"1\" class=\"dataframe\">\n",
       "  <thead>\n",
       "    <tr style=\"text-align: right;\">\n",
       "      <th></th>\n",
       "      <th>absolute_magnitude</th>\n",
       "      <th>estimated_diameter_min</th>\n",
       "      <th>estimated_diameter_max</th>\n",
       "      <th>relative_velocity</th>\n",
       "      <th>miss_distance</th>\n",
       "      <th>is_hazardous</th>\n",
       "    </tr>\n",
       "  </thead>\n",
       "  <tbody>\n",
       "    <tr>\n",
       "      <th>0</th>\n",
       "      <td>19.14</td>\n",
       "      <td>0.394962</td>\n",
       "      <td>0.883161</td>\n",
       "      <td>71745.401048</td>\n",
       "      <td>5.814362e+07</td>\n",
       "      <td>False</td>\n",
       "    </tr>\n",
       "    <tr>\n",
       "      <th>1</th>\n",
       "      <td>18.50</td>\n",
       "      <td>0.530341</td>\n",
       "      <td>1.185878</td>\n",
       "      <td>109949.757148</td>\n",
       "      <td>5.580105e+07</td>\n",
       "      <td>True</td>\n",
       "    </tr>\n",
       "    <tr>\n",
       "      <th>2</th>\n",
       "      <td>21.45</td>\n",
       "      <td>0.136319</td>\n",
       "      <td>0.304818</td>\n",
       "      <td>24865.506798</td>\n",
       "      <td>6.720689e+07</td>\n",
       "      <td>False</td>\n",
       "    </tr>\n",
       "    <tr>\n",
       "      <th>3</th>\n",
       "      <td>20.63</td>\n",
       "      <td>0.198863</td>\n",
       "      <td>0.444672</td>\n",
       "      <td>78890.076805</td>\n",
       "      <td>3.039644e+07</td>\n",
       "      <td>False</td>\n",
       "    </tr>\n",
       "    <tr>\n",
       "      <th>4</th>\n",
       "      <td>22.70</td>\n",
       "      <td>0.076658</td>\n",
       "      <td>0.171412</td>\n",
       "      <td>56036.519484</td>\n",
       "      <td>6.311863e+07</td>\n",
       "      <td>False</td>\n",
       "    </tr>\n",
       "  </tbody>\n",
       "</table>\n",
       "</div>"
      ],
      "text/plain": [
       "   absolute_magnitude  estimated_diameter_min  estimated_diameter_max  \\\n",
       "0               19.14                0.394962                0.883161   \n",
       "1               18.50                0.530341                1.185878   \n",
       "2               21.45                0.136319                0.304818   \n",
       "3               20.63                0.198863                0.444672   \n",
       "4               22.70                0.076658                0.171412   \n",
       "\n",
       "   relative_velocity  miss_distance  is_hazardous  \n",
       "0       71745.401048   5.814362e+07         False  \n",
       "1      109949.757148   5.580105e+07          True  \n",
       "2       24865.506798   6.720689e+07         False  \n",
       "3       78890.076805   3.039644e+07         False  \n",
       "4       56036.519484   6.311863e+07         False  "
      ]
     },
     "execution_count": 6,
     "metadata": {},
     "output_type": "execute_result"
    }
   ],
   "source": [
    "df.drop(['neo_id','name','orbiting_body'], axis=1, inplace=True)\n",
    "df.head()"
   ]
  },
  {
   "cell_type": "markdown",
   "id": "a4e498d2",
   "metadata": {
    "papermill": {
     "duration": 0.013124,
     "end_time": "2024-09-16T11:07:49.097828",
     "exception": false,
     "start_time": "2024-09-16T11:07:49.084704",
     "status": "completed"
    },
    "tags": []
   },
   "source": [
    "İhtiyacım olmayan ve veri tipinde fazlalık olan sütunları kaldırdım"
   ]
  },
  {
   "cell_type": "code",
   "execution_count": 7,
   "id": "adb498ee",
   "metadata": {
    "execution": {
     "iopub.execute_input": "2024-09-16T11:07:49.126375Z",
     "iopub.status.busy": "2024-09-16T11:07:49.125875Z",
     "iopub.status.idle": "2024-09-16T11:07:49.140725Z",
     "shell.execute_reply": "2024-09-16T11:07:49.139258Z"
    },
    "papermill": {
     "duration": 0.032712,
     "end_time": "2024-09-16T11:07:49.143854",
     "exception": false,
     "start_time": "2024-09-16T11:07:49.111142",
     "status": "completed"
    },
    "tags": []
   },
   "outputs": [
    {
     "name": "stdout",
     "output_type": "stream",
     "text": [
      "<class 'pandas.core.frame.DataFrame'>\n",
      "RangeIndex: 338199 entries, 0 to 338198\n",
      "Data columns (total 6 columns):\n",
      " #   Column                  Non-Null Count   Dtype  \n",
      "---  ------                  --------------   -----  \n",
      " 0   absolute_magnitude      338171 non-null  float64\n",
      " 1   estimated_diameter_min  338171 non-null  float64\n",
      " 2   estimated_diameter_max  338171 non-null  float64\n",
      " 3   relative_velocity       338199 non-null  float64\n",
      " 4   miss_distance           338199 non-null  float64\n",
      " 5   is_hazardous            338199 non-null  bool   \n",
      "dtypes: bool(1), float64(5)\n",
      "memory usage: 13.2 MB\n"
     ]
    }
   ],
   "source": [
    "df.info()"
   ]
  },
  {
   "cell_type": "markdown",
   "id": "b3d1f0cf",
   "metadata": {
    "papermill": {
     "duration": 0.013532,
     "end_time": "2024-09-16T11:07:49.170709",
     "exception": false,
     "start_time": "2024-09-16T11:07:49.157177",
     "status": "completed"
    },
    "tags": []
   },
   "source": [
    "Kalan verilerim float ve bool tipinde"
   ]
  },
  {
   "cell_type": "code",
   "execution_count": 8,
   "id": "867b99b9",
   "metadata": {
    "execution": {
     "iopub.execute_input": "2024-09-16T11:07:49.198946Z",
     "iopub.status.busy": "2024-09-16T11:07:49.198524Z",
     "iopub.status.idle": "2024-09-16T11:07:49.215348Z",
     "shell.execute_reply": "2024-09-16T11:07:49.213940Z"
    },
    "papermill": {
     "duration": 0.0344,
     "end_time": "2024-09-16T11:07:49.218278",
     "exception": false,
     "start_time": "2024-09-16T11:07:49.183878",
     "status": "completed"
    },
    "tags": []
   },
   "outputs": [
    {
     "name": "stdout",
     "output_type": "stream",
     "text": [
      "<class 'pandas.core.frame.DataFrame'>\n",
      "RangeIndex: 338199 entries, 0 to 338198\n",
      "Data columns (total 6 columns):\n",
      " #   Column                  Non-Null Count   Dtype  \n",
      "---  ------                  --------------   -----  \n",
      " 0   absolute_magnitude      338171 non-null  float64\n",
      " 1   estimated_diameter_min  338171 non-null  float64\n",
      " 2   estimated_diameter_max  338171 non-null  float64\n",
      " 3   relative_velocity       338199 non-null  float64\n",
      " 4   miss_distance           338199 non-null  float64\n",
      " 5   is_hazardous            338199 non-null  int64  \n",
      "dtypes: float64(5), int64(1)\n",
      "memory usage: 15.5 MB\n"
     ]
    }
   ],
   "source": [
    "df['is_hazardous'] = df['is_hazardous'].astype(int)\n",
    "df.info()"
   ]
  },
  {
   "cell_type": "markdown",
   "id": "1ce61cd0",
   "metadata": {
    "papermill": {
     "duration": 0.013064,
     "end_time": "2024-09-16T11:07:49.245109",
     "exception": false,
     "start_time": "2024-09-16T11:07:49.232045",
     "status": "completed"
    },
    "tags": []
   },
   "source": [
    "Bool tipindeki veriyi int e çeviriyorum ve böylece Logistic Regression algoritmam rahatlıkla çalışabilir"
   ]
  },
  {
   "cell_type": "code",
   "execution_count": 9,
   "id": "83760f63",
   "metadata": {
    "execution": {
     "iopub.execute_input": "2024-09-16T11:07:49.274052Z",
     "iopub.status.busy": "2024-09-16T11:07:49.273588Z",
     "iopub.status.idle": "2024-09-16T11:07:49.862459Z",
     "shell.execute_reply": "2024-09-16T11:07:49.860941Z"
    },
    "papermill": {
     "duration": 0.607171,
     "end_time": "2024-09-16T11:07:49.865619",
     "exception": false,
     "start_time": "2024-09-16T11:07:49.258448",
     "status": "completed"
    },
    "tags": []
   },
   "outputs": [
    {
     "data": {
      "image/png": "[encoded data removed]",
      "text/plain": [
       "<Figure size 1000x1000 with 2 Axes>"
      ]
     },
     "metadata": {},
     "output_type": "display_data"
    }
   ],
   "source": [
    "corr_matrix = df.corr()\n",
    "plt.figure(figsize=(10,10))\n",
    "sns.heatmap(corr_matrix, annot=True)\n",
    "plt.show()"
   ]
  },
  {
   "cell_type": "markdown",
   "id": "d4203574",
   "metadata": {
    "papermill": {
     "duration": 0.014119,
     "end_time": "2024-09-16T11:07:49.895299",
     "exception": false,
     "start_time": "2024-09-16T11:07:49.881180",
     "status": "completed"
    },
    "tags": []
   },
   "source": [
    "Korelasyon matrisi çizip hangi veri sütunlarının pozitif ve negatif olduğunu anlıyorum"
   ]
  },
  {
   "cell_type": "code",
   "execution_count": 10,
   "id": "d25ea8a0",
   "metadata": {
    "execution": {
     "iopub.execute_input": "2024-09-16T11:07:49.926478Z",
     "iopub.status.busy": "2024-09-16T11:07:49.925672Z",
     "iopub.status.idle": "2024-09-16T11:07:50.164452Z",
     "shell.execute_reply": "2024-09-16T11:07:50.163101Z"
    },
    "papermill": {
     "duration": 0.257343,
     "end_time": "2024-09-16T11:07:50.167035",
     "exception": false,
     "start_time": "2024-09-16T11:07:49.909692",
     "status": "completed"
    },
    "tags": []
   },
   "outputs": [
    {
     "data": {
      "image/png": "[encoded data removed]",
      "text/plain": [
       "<Figure size 640x480 with 1 Axes>"
      ]
     },
     "metadata": {},
     "output_type": "display_data"
    }
   ],
   "source": [
    "plt.figure()\n",
    "sns.countplot(x='is_hazardous', data=df, palette='RdBu')\n",
    "plt.xticks([0,1], ['False', 'True'])\n",
    "plt.show()"
   ]
  },
  {
   "cell_type": "markdown",
   "id": "1a44ed2b",
   "metadata": {
    "papermill": {
     "duration": 0.014568,
     "end_time": "2024-09-16T11:07:50.196554",
     "exception": false,
     "start_time": "2024-09-16T11:07:50.181986",
     "status": "completed"
    },
    "tags": []
   },
   "source": [
    "Çalışmak istediğim sütunda NaN veri var mı kontrol ediyorum ve NaN veri olmadığını öğreniyorum"
   ]
  },
  {
   "cell_type": "code",
   "execution_count": 11,
   "id": "89cd17bc",
   "metadata": {
    "execution": {
     "iopub.execute_input": "2024-09-16T11:07:50.228747Z",
     "iopub.status.busy": "2024-09-16T11:07:50.228301Z",
     "iopub.status.idle": "2024-09-16T11:07:50.237310Z",
     "shell.execute_reply": "2024-09-16T11:07:50.236069Z"
    },
    "papermill": {
     "duration": 0.028605,
     "end_time": "2024-09-16T11:07:50.240042",
     "exception": false,
     "start_time": "2024-09-16T11:07:50.211437",
     "status": "completed"
    },
    "tags": []
   },
   "outputs": [
    {
     "data": {
      "text/plain": [
       "False"
      ]
     },
     "execution_count": 11,
     "metadata": {},
     "output_type": "execute_result"
    }
   ],
   "source": [
    "df['is_hazardous'].isnull().any()"
   ]
  },
  {
   "cell_type": "markdown",
   "id": "5ef259d5",
   "metadata": {
    "papermill": {
     "duration": 0.014722,
     "end_time": "2024-09-16T11:07:50.270253",
     "exception": false,
     "start_time": "2024-09-16T11:07:50.255531",
     "status": "completed"
    },
    "tags": []
   },
   "source": [
    "Diğer verilerde NaN veri var mı kontrol ediyorum çünkü ileride sorun çıkarabilir."
   ]
  },
  {
   "cell_type": "code",
   "execution_count": 12,
   "id": "294d0c6e",
   "metadata": {
    "execution": {
     "iopub.execute_input": "2024-09-16T11:07:50.302386Z",
     "iopub.status.busy": "2024-09-16T11:07:50.301905Z",
     "iopub.status.idle": "2024-09-16T11:07:50.313242Z",
     "shell.execute_reply": "2024-09-16T11:07:50.311936Z"
    },
    "papermill": {
     "duration": 0.03044,
     "end_time": "2024-09-16T11:07:50.315978",
     "exception": false,
     "start_time": "2024-09-16T11:07:50.285538",
     "status": "completed"
    },
    "tags": []
   },
   "outputs": [
    {
     "data": {
      "text/plain": [
       "absolute_magnitude         True\n",
       "estimated_diameter_min     True\n",
       "estimated_diameter_max     True\n",
       "relative_velocity         False\n",
       "miss_distance             False\n",
       "is_hazardous              False\n",
       "dtype: bool"
      ]
     },
     "execution_count": 12,
     "metadata": {},
     "output_type": "execute_result"
    }
   ],
   "source": [
    "df.isnull().any()"
   ]
  },
  {
   "cell_type": "markdown",
   "id": "e084054b",
   "metadata": {
    "papermill": {
     "duration": 0.015514,
     "end_time": "2024-09-16T11:07:50.347590",
     "exception": false,
     "start_time": "2024-09-16T11:07:50.332076",
     "status": "completed"
    },
    "tags": []
   },
   "source": [
    "3 Sütunda NaN veriler varmış bunları doldurmam gerekiyor"
   ]
  },
  {
   "cell_type": "code",
   "execution_count": 13,
   "id": "77190031",
   "metadata": {
    "execution": {
     "iopub.execute_input": "2024-09-16T11:07:50.385846Z",
     "iopub.status.busy": "2024-09-16T11:07:50.385114Z",
     "iopub.status.idle": "2024-09-16T11:07:50.392075Z",
     "shell.execute_reply": "2024-09-16T11:07:50.390730Z"
    },
    "papermill": {
     "duration": 0.032123,
     "end_time": "2024-09-16T11:07:50.395177",
     "exception": false,
     "start_time": "2024-09-16T11:07:50.363054",
     "status": "completed"
    },
    "tags": []
   },
   "outputs": [],
   "source": [
    "imputer = SimpleImputer(strategy='mean')"
   ]
  },
  {
   "cell_type": "markdown",
   "id": "19003298",
   "metadata": {
    "papermill": {
     "duration": 0.018946,
     "end_time": "2024-09-16T11:07:50.434845",
     "exception": false,
     "start_time": "2024-09-16T11:07:50.415899",
     "status": "completed"
    },
    "tags": []
   },
   "source": [
    "NaN verileri doldurmak için SimpleImputer algoritmasını ortalama ('mean') metodu ile kullanıyorum"
   ]
  },
  {
   "cell_type": "code",
   "execution_count": 14,
   "id": "9c200bbb",
   "metadata": {
    "execution": {
     "iopub.execute_input": "2024-09-16T11:07:50.470919Z",
     "iopub.status.busy": "2024-09-16T11:07:50.470428Z",
     "iopub.status.idle": "2024-09-16T11:07:50.546298Z",
     "shell.execute_reply": "2024-09-16T11:07:50.545066Z"
    },
    "papermill": {
     "duration": 0.096686,
     "end_time": "2024-09-16T11:07:50.550269",
     "exception": false,
     "start_time": "2024-09-16T11:07:50.453583",
     "status": "completed"
    },
    "tags": []
   },
   "outputs": [],
   "source": [
    "df = pd.DataFrame(imputer.fit_transform(df), columns=df.columns)"
   ]
  },
  {
   "cell_type": "code",
   "execution_count": 15,
   "id": "88f78b21",
   "metadata": {
    "execution": {
     "iopub.execute_input": "2024-09-16T11:07:50.597122Z",
     "iopub.status.busy": "2024-09-16T11:07:50.596625Z",
     "iopub.status.idle": "2024-09-16T11:07:50.608206Z",
     "shell.execute_reply": "2024-09-16T11:07:50.606722Z"
    },
    "papermill": {
     "duration": 0.037732,
     "end_time": "2024-09-16T11:07:50.610777",
     "exception": false,
     "start_time": "2024-09-16T11:07:50.573045",
     "status": "completed"
    },
    "tags": []
   },
   "outputs": [
    {
     "data": {
      "text/plain": [
       "absolute_magnitude        False\n",
       "estimated_diameter_min    False\n",
       "estimated_diameter_max    False\n",
       "relative_velocity         False\n",
       "miss_distance             False\n",
       "is_hazardous              False\n",
       "dtype: bool"
      ]
     },
     "execution_count": 15,
     "metadata": {},
     "output_type": "execute_result"
    }
   ],
   "source": [
    "df.isnull().any()"
   ]
  },
  {
   "cell_type": "markdown",
   "id": "20e5305e",
   "metadata": {
    "papermill": {
     "duration": 0.015275,
     "end_time": "2024-09-16T11:07:50.641430",
     "exception": false,
     "start_time": "2024-09-16T11:07:50.626155",
     "status": "completed"
    },
    "tags": []
   },
   "source": [
    "NaN verilerin tamamını doldurmuş oldum."
   ]
  },
  {
   "cell_type": "code",
   "execution_count": 16,
   "id": "e55ffe80",
   "metadata": {
    "execution": {
     "iopub.execute_input": "2024-09-16T11:07:50.674100Z",
     "iopub.status.busy": "2024-09-16T11:07:50.673625Z",
     "iopub.status.idle": "2024-09-16T11:07:51.725681Z",
     "shell.execute_reply": "2024-09-16T11:07:51.724081Z"
    },
    "papermill": {
     "duration": 1.073345,
     "end_time": "2024-09-16T11:07:51.730101",
     "exception": false,
     "start_time": "2024-09-16T11:07:50.656756",
     "status": "completed"
    },
    "tags": []
   },
   "outputs": [],
   "source": [
    "X = df.iloc[:, 0:5]\n",
    "y = df[\"is_hazardous\"]\n",
    "\n",
    "\n",
    "X_train, X_test, y_train, y_test = train_test_split(\n",
    "    X, y, test_size=0.2, random_state=42\n",
    ")\n",
    "\n",
    "model = LogisticRegression()\n",
    "model.fit(X_train, y_train)\n",
    "y_pred = model.predict(X_test)"
   ]
  },
  {
   "cell_type": "markdown",
   "id": "db3f122b",
   "metadata": {
    "papermill": {
     "duration": 0.030841,
     "end_time": "2024-09-16T11:07:51.792414",
     "exception": false,
     "start_time": "2024-09-16T11:07:51.761573",
     "status": "completed"
    },
    "tags": []
   },
   "source": [
    "Logistic Regression Algoritmasını datasetine uyguluyorum"
   ]
  },
  {
   "cell_type": "code",
   "execution_count": 17,
   "id": "b6a4b393",
   "metadata": {
    "execution": {
     "iopub.execute_input": "2024-09-16T11:07:51.850828Z",
     "iopub.status.busy": "2024-09-16T11:07:51.850387Z",
     "iopub.status.idle": "2024-09-16T11:07:51.866978Z",
     "shell.execute_reply": "2024-09-16T11:07:51.865539Z"
    },
    "papermill": {
     "duration": 0.046085,
     "end_time": "2024-09-16T11:07:51.869717",
     "exception": false,
     "start_time": "2024-09-16T11:07:51.823632",
     "status": "completed"
    },
    "tags": []
   },
   "outputs": [
    {
     "name": "stdout",
     "output_type": "stream",
     "text": [
      "Doğruluk oranı: 0.8724275576581905\n"
     ]
    }
   ],
   "source": [
    "accuracy = accuracy_score(y_test, y_pred)\n",
    "print(\"Doğruluk oranı:\", accuracy)"
   ]
  },
  {
   "cell_type": "markdown",
   "id": "d39458af",
   "metadata": {
    "papermill": {
     "duration": 0.015531,
     "end_time": "2024-09-16T11:07:51.900797",
     "exception": false,
     "start_time": "2024-09-16T11:07:51.885266",
     "status": "completed"
    },
    "tags": []
   },
   "source": [
    "%87 başarı oranı hiç fena değil gibi gözüküyor ancak bu veriler dünyaya yakın olan nesnelerin tehlikeli olup olmadığını gösterdiği için geriye kalan %13'lük dilim ölümcül sonuçlar doğurabilir"
   ]
  },
  {
   "cell_type": "code",
   "execution_count": 18,
   "id": "7dbb983f",
   "metadata": {
    "execution": {
     "iopub.execute_input": "2024-09-16T11:07:51.934126Z",
     "iopub.status.busy": "2024-09-16T11:07:51.933145Z",
     "iopub.status.idle": "2024-09-16T11:07:52.011066Z",
     "shell.execute_reply": "2024-09-16T11:07:52.009711Z"
    },
    "papermill": {
     "duration": 0.097659,
     "end_time": "2024-09-16T11:07:52.013961",
     "exception": false,
     "start_time": "2024-09-16T11:07:51.916302",
     "status": "completed"
    },
    "tags": []
   },
   "outputs": [],
   "source": [
    "from sklearn.tree import DecisionTreeClassifier\n",
    "from sklearn.preprocessing import StandardScaler\n",
    "from sklearn.pipeline import Pipeline\n",
    "from sklearn.model_selection import train_test_split\n",
    "steps = [('scaler', StandardScaler()),\n",
    "('dec_tree', DecisionTreeClassifier())]\n",
    "pipeline = Pipeline(steps)\n",
    "X_train, X_test, y_train, y_test = train_test_split(X, y, test_size=0.2, random_state=21)\n",
    "params = {\"dec_tree__criterion\":['gini', 'entropy'],\n",
    "         \"dec_tree__max_depth\":np.arange(3, 15)\n",
    "         }"
   ]
  },
  {
   "cell_type": "markdown",
   "id": "7f0e1b44",
   "metadata": {
    "papermill": {
     "duration": 0.015841,
     "end_time": "2024-09-16T11:07:52.046125",
     "exception": false,
     "start_time": "2024-09-16T11:07:52.030284",
     "status": "completed"
    },
    "tags": []
   },
   "source": [
    "Decision Tree algoritması ile veri setini daha küçük parçalara bölüyorum"
   ]
  },
  {
   "cell_type": "code",
   "execution_count": 19,
   "id": "c4439632",
   "metadata": {
    "execution": {
     "iopub.execute_input": "2024-09-16T11:07:52.079230Z",
     "iopub.status.busy": "2024-09-16T11:07:52.078740Z",
     "iopub.status.idle": "2024-09-16T11:27:00.092050Z",
     "shell.execute_reply": "2024-09-16T11:27:00.090863Z"
    },
    "papermill": {
     "duration": 1148.049177,
     "end_time": "2024-09-16T11:27:00.110808",
     "exception": false,
     "start_time": "2024-09-16T11:07:52.061631",
     "status": "completed"
    },
    "tags": []
   },
   "outputs": [
    {
     "name": "stdout",
     "output_type": "stream",
     "text": [
      "3 fold score: 0.89\n",
      "Best parameters:  {'dec_tree__criterion': 'entropy', 'dec_tree__max_depth': 14}\n",
      "4 fold score: 0.89\n",
      "Best parameters:  {'dec_tree__criterion': 'entropy', 'dec_tree__max_depth': 14}\n",
      "5 fold score: 0.89\n",
      "Best parameters:  {'dec_tree__criterion': 'entropy', 'dec_tree__max_depth': 14}\n",
      "6 fold score: 0.89\n",
      "Best parameters:  {'dec_tree__criterion': 'gini', 'dec_tree__max_depth': 13}\n",
      "7 fold score: 0.89\n",
      "Best parameters:  {'dec_tree__criterion': 'gini', 'dec_tree__max_depth': 14}\n",
      "8 fold score: 0.89\n",
      "Best parameters:  {'dec_tree__criterion': 'gini', 'dec_tree__max_depth': 14}\n",
      "9 fold score: 0.89\n",
      "Best parameters:  {'dec_tree__criterion': 'gini', 'dec_tree__max_depth': 14}\n"
     ]
    }
   ],
   "source": [
    "from sklearn.model_selection import GridSearchCV\n",
    "for cv in range(3,10):\n",
    "    cv_grid = GridSearchCV(pipeline, param_grid=params,cv=cv)\n",
    "    cv_grid.fit(X_train, y_train)\n",
    "    print(\"%d fold score: %3.2f\" %(cv,cv_grid.score(X_test, y_test)))\n",
    "    print(\"Best parameters: \", cv_grid.best_params_)"
   ]
  },
  {
   "cell_type": "markdown",
   "id": "5eb6dcb1",
   "metadata": {
    "papermill": {
     "duration": 0.015914,
     "end_time": "2024-09-16T11:27:00.142819",
     "exception": false,
     "start_time": "2024-09-16T11:27:00.126905",
     "status": "completed"
    },
    "tags": []
   },
   "source": [
    "GridSearch ile baktığımda entropy ve gini kriterleriyle 13 ve 14 derinliklerinin skorda bir değişikliğe sebep olmadığını görüyorum"
   ]
  },
  {
   "cell_type": "code",
   "execution_count": 20,
   "id": "25f33597",
   "metadata": {
    "execution": {
     "iopub.execute_input": "2024-09-16T11:27:00.178296Z",
     "iopub.status.busy": "2024-09-16T11:27:00.177726Z",
     "iopub.status.idle": "2024-09-16T11:27:02.099879Z",
     "shell.execute_reply": "2024-09-16T11:27:02.098651Z"
    },
    "papermill": {
     "duration": 1.943099,
     "end_time": "2024-09-16T11:27:02.102678",
     "exception": false,
     "start_time": "2024-09-16T11:27:00.159579",
     "status": "completed"
    },
    "tags": []
   },
   "outputs": [
    {
     "name": "stdout",
     "output_type": "stream",
     "text": [
      "              precision    recall  f1-score   support\n",
      "\n",
      "         0.0       0.90      0.98      0.94     59083\n",
      "         1.0       0.65      0.25      0.36      8557\n",
      "\n",
      "    accuracy                           0.89     67640\n",
      "   macro avg       0.77      0.61      0.65     67640\n",
      "weighted avg       0.87      0.89      0.86     67640\n",
      "\n"
     ]
    }
   ],
   "source": [
    "best_tree = DecisionTreeClassifier(criterion='gini', max_depth=14)\n",
    "best_tree.fit(X_train, y_train)\n",
    "y_pred = best_tree.predict(X_test)\n",
    "from sklearn.metrics import classification_report\n",
    "print(classification_report(y_test, y_pred))"
   ]
  },
  {
   "cell_type": "markdown",
   "id": "a70fb3b6",
   "metadata": {
    "papermill": {
     "duration": 0.015828,
     "end_time": "2024-09-16T11:27:02.134935",
     "exception": false,
     "start_time": "2024-09-16T11:27:02.119107",
     "status": "completed"
    },
    "tags": []
   },
   "source": [
    "gini kriteri ve 14 derinliğini seçerek skorunu hesaplıyorum ve tehlikesiz olan objeleri %98 başarıyla bulduğunu lakin tehlikeli olanlarda %25'ini doğru tahmin edebildiğini görüyoruz "
   ]
  },
  {
   "cell_type": "code",
   "execution_count": 21,
   "id": "956a013e",
   "metadata": {
    "execution": {
     "iopub.execute_input": "2024-09-16T11:27:02.169396Z",
     "iopub.status.busy": "2024-09-16T11:27:02.168917Z",
     "iopub.status.idle": "2024-09-16T11:32:43.715145Z",
     "shell.execute_reply": "2024-09-16T11:32:43.713782Z"
    },
    "papermill": {
     "duration": 341.582901,
     "end_time": "2024-09-16T11:32:43.733834",
     "exception": false,
     "start_time": "2024-09-16T11:27:02.150933",
     "status": "completed"
    },
    "tags": []
   },
   "outputs": [
    {
     "name": "stdout",
     "output_type": "stream",
     "text": [
      "3 fold score: 0.89\n",
      "Best parameters:  {'dec_tree__criterion': 'entropy', 'dec_tree__max_depth': 14}\n",
      "4 fold score: 0.89\n",
      "Best parameters:  {'dec_tree__criterion': 'gini', 'dec_tree__max_depth': 13}\n",
      "5 fold score: 0.89\n",
      "Best parameters:  {'dec_tree__criterion': 'entropy', 'dec_tree__max_depth': 14}\n"
     ]
    }
   ],
   "source": [
    "X_train, X_test, y_train, y_test = train_test_split(X, y, test_size=0.1, random_state=21)\n",
    "params = {\"dec_tree__criterion\":['gini', 'entropy'],\n",
    "         \"dec_tree__max_depth\":np.arange(3, 15)\n",
    "         }\n",
    "from sklearn.model_selection import GridSearchCV\n",
    "for cv in range(3,6):\n",
    "    cv_grid = GridSearchCV(pipeline, param_grid=params,cv=cv)\n",
    "    cv_grid.fit(X_train, y_train)\n",
    "    print(\"%d fold score: %3.2f\" %(cv,cv_grid.score(X_test, y_test)))\n",
    "    print(\"Best parameters: \", cv_grid.best_params_)"
   ]
  },
  {
   "cell_type": "markdown",
   "id": "0ad6c82f",
   "metadata": {
    "papermill": {
     "duration": 0.016355,
     "end_time": "2024-09-16T11:32:43.766633",
     "exception": false,
     "start_time": "2024-09-16T11:32:43.750278",
     "status": "completed"
    },
    "tags": []
   },
   "source": [
    "Eğitim verisini bir kez daha küçülterek tekrar deniyorum"
   ]
  },
  {
   "cell_type": "code",
   "execution_count": 22,
   "id": "34bbe43e",
   "metadata": {
    "execution": {
     "iopub.execute_input": "2024-09-16T11:32:43.801540Z",
     "iopub.status.busy": "2024-09-16T11:32:43.801048Z",
     "iopub.status.idle": "2024-09-16T11:32:46.015541Z",
     "shell.execute_reply": "2024-09-16T11:32:46.013930Z"
    },
    "papermill": {
     "duration": 2.235459,
     "end_time": "2024-09-16T11:32:46.018550",
     "exception": false,
     "start_time": "2024-09-16T11:32:43.783091",
     "status": "completed"
    },
    "tags": []
   },
   "outputs": [
    {
     "name": "stdout",
     "output_type": "stream",
     "text": [
      "              precision    recall  f1-score   support\n",
      "\n",
      "         0.0       0.90      0.98      0.94     29592\n",
      "         1.0       0.63      0.24      0.35      4228\n",
      "\n",
      "    accuracy                           0.89     33820\n",
      "   macro avg       0.77      0.61      0.65     33820\n",
      "weighted avg       0.87      0.89      0.87     33820\n",
      "\n"
     ]
    }
   ],
   "source": [
    "best_tree = DecisionTreeClassifier(criterion='entropy', max_depth=14)\n",
    "best_tree.fit(X_train, y_train)\n",
    "y_pred = best_tree.predict(X_test)\n",
    "from sklearn.metrics import classification_report\n",
    "print(classification_report(y_test, y_pred))"
   ]
  },
  {
   "cell_type": "markdown",
   "id": "15df1ce7",
   "metadata": {
    "papermill": {
     "duration": 0.016572,
     "end_time": "2024-09-16T11:32:46.051797",
     "exception": false,
     "start_time": "2024-09-16T11:32:46.035225",
     "status": "completed"
    },
    "tags": []
   },
   "source": [
    "Bu kez 0 sınıfı değişmezken 1 sınıfı %25 den %24 e düştü"
   ]
  },
  {
   "cell_type": "markdown",
   "id": "c0758672",
   "metadata": {
    "papermill": {
     "duration": 0.0176,
     "end_time": "2024-09-16T11:32:46.087122",
     "exception": false,
     "start_time": "2024-09-16T11:32:46.069522",
     "status": "completed"
    },
    "tags": []
   },
   "source": [
    "Son kez olarak bir değerlendirme yapacak olursak \n",
    "\n",
    "\n",
    "Sınıf 0:\n",
    "Yüksek precision ve recall: Model, sınıf 0 örneklerini oldukça iyi sınıflandırmaktadır. Yanlış pozitif ve yanlış negatif oranları düşüktür.\n",
    "\n",
    "F1-score da yüksek: Bu, modelin hem precision hem de recall konusunda iyi bir denge sağladığını gösterir.\n",
    "\n",
    "\n",
    "Sınıf 1:\n",
    "Düşük recall: Model, sınıf 1 örneklerinin sadece %25'ini doğru bir şekilde sınıflandırabilmektedir. Yani, birçok sınıf 1 örneğini sınıf 0 olarak yanlış sınıflandırmaktadır.\n",
    "\n",
    "Düşük f1-score: Precision ve recall değerlerinin düşük olması, modelin sınıf 1 örneklerini tahmin etmekte zorlandığını gösterir.\n",
    "\n",
    "\n",
    "Genel Değerlendirme:\n",
    "Yüksek genel doğruluk: Modelin genel olarak iyi bir performansı var gibi görünmektedir. Ancak, bu tek başına yeterli bir metrik değildir.\n",
    "\n",
    "Sınıf dengesizliği: Sınıf 0 örneklerinin sayısı, sınıf 1 örneklerinin sayısından çok daha fazla. Bu durum, modelin genel doğruluk oranını yükseltse de, azınlık sınıfı olan sınıf 1 örneklerinin doğru sınıflandırılmasını zorlaştırabilir."
   ]
  }
 ],
 "metadata": {
  "kaggle": {
   "accelerator": "none",
   "dataSources": [
    {
     "datasetId": 5410371,
     "sourceId": 8984243,
     "sourceType": "datasetVersion"
    }
   ],
   "dockerImageVersionId": 30761,
   "isGpuEnabled": false,
   "isInternetEnabled": false,
   "language": "python",
   "sourceType": "notebook"
  },
  "kernelspec": {
   "display_name": "Python 3",
   "language": "python",
   "name": "python3"
  },
  "language_info": {
   "codemirror_mode": {
    "name": "ipython",
    "version": 3
   },
   "file_extension": ".py",
   "mimetype": "text/x-python",
   "name": "python",
   "nbconvert_exporter": "python",
   "pygments_lexer": "ipython3",
   "version": "3.10.14"
  },
  "papermill": {
   "default_parameters": {},
   "duration": 1505.804743,
   "end_time": "2024-09-16T11:32:46.827289",
   "environment_variables": {},
   "exception": null,
   "input_path": "__notebook__.ipynb",
   "output_path": "__notebook__.ipynb",
   "parameters": {},
   "start_time": "2024-09-16T11:07:41.022546",
   "version": "2.6.0"
  }
 },
 "nbformat": 4,
 "nbformat_minor": 5
}
